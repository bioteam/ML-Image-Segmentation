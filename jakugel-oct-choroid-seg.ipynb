{
 "cells": [
  {
   "cell_type": "markdown",
   "metadata": {},
   "source": [
    "# Semantic Model\n",
    "The code bellow refers to https://github.com/jakugel/oct-choroid-seg and contains recommendations to read in area segmentations.\n",
    "The boundaries are the ILM, RPE and CSI. For the semantic segmentation these regions (areas) are needed:\n",
    "\n",
    "1. Vitreous (top of the image to ILM)\n",
    "2. Retinal (ILM to RPE)\n",
    "3. Choroid (RPE to CHR)\n",
    "4. Sclera (CHR to bottom of the image)\n",
    "\n",
    "## Loading Area Labels\n",
    "The semantic model requires image area segmentations, but the functions `load_training_data` and `load_validation_data` in `train_script_semantic_general.py` are written for segmentation files that contain boundaries. \n",
    "\n",
    "These boundaries are then converted to areas or “masks” in function `create_all_area_masks(images, segs)`.\n",
    "\n",
    "If the input training labels are area labels, the function `create_all_area_masks` does not need to convert boundaries to areas. It should be enough to set `mask = segs`.\n",
    "\n",
    "##Dependencies\n",
    "See [oct-choroid-seg github Readme](https://github.com/jakugel/oct-choroid-seg)\n",
    "\n",
    "\n",
    "# Code Modifications\n",
    "`create_all_area_masks` calls `create_area_mask(image, segs)` for all training or evaluation image and label pairs.\n",
    "\n",
    "`create_area_mask(image, segs)` sets `mask = segs` **if the dimensions are the same and dtype is uint8**.\n",
    "\n",
    "<div class=\"alert-danger\">\n",
    "Segmentation png files received from Rihabh's lab are of type float32. They need to be saved as uint8.\n",
    "</div>\n",
    "\n",
    "Image and segs are loaded with matplotlib. \n",
    "\n",
    "<div class=\"alert-warning\">\n",
    "In the code below we are inspecting the images but the code should be removed or commented out.\n",
    "</div>"
   ]
  },
  {
   "cell_type": "code",
   "execution_count": 1,
   "metadata": {},
   "outputs": [
    {
     "ename": "FileNotFoundError",
     "evalue": "[Errno 2] No such file or directory: '000.tif'",
     "output_type": "error",
     "traceback": [
      "\u001b[0;31m---------------------------------------------------------------------------\u001b[0m",
      "\u001b[0;31mFileNotFoundError\u001b[0m                         Traceback (most recent call last)",
      "\u001b[0;32m<ipython-input-1-4c48e0c37bdd>\u001b[0m in \u001b[0;36m<module>\u001b[0;34m\u001b[0m\n\u001b[1;32m     16\u001b[0m \u001b[0;31m# load image as pixel array\u001b[0m\u001b[0;34m\u001b[0m\u001b[0;34m\u001b[0m\u001b[0;34m\u001b[0m\u001b[0m\n\u001b[1;32m     17\u001b[0m \u001b[0;34m\u001b[0m\u001b[0m\n\u001b[0;32m---> 18\u001b[0;31m \u001b[0mimage\u001b[0m \u001b[0;34m=\u001b[0m \u001b[0mmplimage\u001b[0m\u001b[0;34m.\u001b[0m\u001b[0mimread\u001b[0m\u001b[0;34m(\u001b[0m\u001b[0;34m'000.tif'\u001b[0m\u001b[0;34m)\u001b[0m\u001b[0;34m\u001b[0m\u001b[0;34m\u001b[0m\u001b[0m\n\u001b[0m\u001b[1;32m     19\u001b[0m \u001b[0;34m\u001b[0m\u001b[0m\n\u001b[1;32m     20\u001b[0m \u001b[0;31m# Verify image is correct: summarize shape of the pixel array\u001b[0m\u001b[0;34m\u001b[0m\u001b[0;34m\u001b[0m\u001b[0;34m\u001b[0m\u001b[0m\n",
      "\u001b[0;32m/opt/anaconda3/lib/python3.8/site-packages/matplotlib/image.py\u001b[0m in \u001b[0;36mimread\u001b[0;34m(fname, format)\u001b[0m\n\u001b[1;32m   1488\u001b[0m                     \u001b[0mresponse\u001b[0m \u001b[0;34m=\u001b[0m \u001b[0mio\u001b[0m\u001b[0;34m.\u001b[0m\u001b[0mBytesIO\u001b[0m\u001b[0;34m(\u001b[0m\u001b[0mresponse\u001b[0m\u001b[0;34m.\u001b[0m\u001b[0mread\u001b[0m\u001b[0;34m(\u001b[0m\u001b[0;34m)\u001b[0m\u001b[0;34m)\u001b[0m\u001b[0;34m\u001b[0m\u001b[0;34m\u001b[0m\u001b[0m\n\u001b[1;32m   1489\u001b[0m                 \u001b[0;32mreturn\u001b[0m \u001b[0mimread\u001b[0m\u001b[0;34m(\u001b[0m\u001b[0mresponse\u001b[0m\u001b[0;34m,\u001b[0m \u001b[0mformat\u001b[0m\u001b[0;34m=\u001b[0m\u001b[0mext\u001b[0m\u001b[0;34m)\u001b[0m\u001b[0;34m\u001b[0m\u001b[0;34m\u001b[0m\u001b[0m\n\u001b[0;32m-> 1490\u001b[0;31m     \u001b[0;32mwith\u001b[0m \u001b[0mimg_open\u001b[0m\u001b[0;34m(\u001b[0m\u001b[0mfname\u001b[0m\u001b[0;34m)\u001b[0m \u001b[0;32mas\u001b[0m \u001b[0mimage\u001b[0m\u001b[0;34m:\u001b[0m\u001b[0;34m\u001b[0m\u001b[0;34m\u001b[0m\u001b[0m\n\u001b[0m\u001b[1;32m   1491\u001b[0m         return (_pil_png_to_float_array(image)\n\u001b[1;32m   1492\u001b[0m                 \u001b[0;32mif\u001b[0m \u001b[0misinstance\u001b[0m\u001b[0;34m(\u001b[0m\u001b[0mimage\u001b[0m\u001b[0;34m,\u001b[0m \u001b[0mPIL\u001b[0m\u001b[0;34m.\u001b[0m\u001b[0mPngImagePlugin\u001b[0m\u001b[0;34m.\u001b[0m\u001b[0mPngImageFile\u001b[0m\u001b[0;34m)\u001b[0m \u001b[0;32melse\u001b[0m\u001b[0;34m\u001b[0m\u001b[0;34m\u001b[0m\u001b[0m\n",
      "\u001b[0;32m/opt/anaconda3/lib/python3.8/site-packages/PIL/Image.py\u001b[0m in \u001b[0;36mopen\u001b[0;34m(fp, mode, formats)\u001b[0m\n\u001b[1;32m   2889\u001b[0m \u001b[0;34m\u001b[0m\u001b[0m\n\u001b[1;32m   2890\u001b[0m     \u001b[0;32mif\u001b[0m \u001b[0mfilename\u001b[0m\u001b[0;34m:\u001b[0m\u001b[0;34m\u001b[0m\u001b[0;34m\u001b[0m\u001b[0m\n\u001b[0;32m-> 2891\u001b[0;31m         \u001b[0mfp\u001b[0m \u001b[0;34m=\u001b[0m \u001b[0mbuiltins\u001b[0m\u001b[0;34m.\u001b[0m\u001b[0mopen\u001b[0m\u001b[0;34m(\u001b[0m\u001b[0mfilename\u001b[0m\u001b[0;34m,\u001b[0m \u001b[0;34m\"rb\"\u001b[0m\u001b[0;34m)\u001b[0m\u001b[0;34m\u001b[0m\u001b[0;34m\u001b[0m\u001b[0m\n\u001b[0m\u001b[1;32m   2892\u001b[0m         \u001b[0mexclusive_fp\u001b[0m \u001b[0;34m=\u001b[0m \u001b[0;32mTrue\u001b[0m\u001b[0;34m\u001b[0m\u001b[0;34m\u001b[0m\u001b[0m\n\u001b[1;32m   2893\u001b[0m \u001b[0;34m\u001b[0m\u001b[0m\n",
      "\u001b[0;31mFileNotFoundError\u001b[0m: [Errno 2] No such file or directory: '000.tif'"
     ]
    }
   ],
   "source": [
    "import numpy as np\n",
    "from matplotlib import image as mplimage\n",
    "from matplotlib import pyplot\n",
    "\n",
    "def create_area_mask(image, segs):\n",
    "    \n",
    "    #verify image & segs have the same dimensions\n",
    "\n",
    "    #if (image.shape == segs.shape and segs.dtype == uint8):\n",
    "\n",
    "    if (image.shape == segs.shape):\n",
    "        mask = segs\n",
    "    \n",
    "    return mask\n",
    "\n",
    "# load image as pixel array\n",
    "\n",
    "image = mplimage.imread('000.tif')\n",
    "\n",
    "# Verify image is correct: summarize shape of the pixel array\n",
    "print(image.dtype)\n",
    "print(image.shape)\n",
    "\n",
    "# Verify image is correct: display the array of pixels as an image\n",
    "\n",
    "pyplot.imshow(image)\n",
    "pyplot.show()\n",
    "\n",
    "# load image as pixel array\n",
    "\n",
    "segs = mplimage.imread('000.png')\n",
    "\n",
    "\n",
    "\n",
    "\n",
    "masks = create_area_mask(image, segs)\n",
    "if masks.all():\n",
    "  print(\"Mask is empty\")\n",
    "else:\n",
    "    # Verify mask is correct: summarize shape of the pixel array\n",
    "    print(masks.dtype)\n",
    "    print(masks.shape)\n",
    "\n",
    "    # Verify mask is correct: display the array of pixels as an image\n",
    "\n",
    "    pyplot.imshow(masks)\n",
    "    pyplot.show()\n",
    "\n",
    "\n",
    "\n"
   ]
  },
  {
   "cell_type": "code",
   "execution_count": null,
   "metadata": {},
   "outputs": [],
   "source": []
  },
  {
   "cell_type": "code",
   "execution_count": null,
   "metadata": {},
   "outputs": [],
   "source": []
  }
 ],
 "metadata": {
  "kernelspec": {
   "display_name": "Python 3",
   "language": "python",
   "name": "python3"
  },
  "language_info": {
   "codemirror_mode": {
    "name": "ipython",
    "version": 3
   },
   "file_extension": ".py",
   "mimetype": "text/x-python",
   "name": "python",
   "nbconvert_exporter": "python",
   "pygments_lexer": "ipython3",
   "version": "3.8.5"
  }
 },
 "nbformat": 4,
 "nbformat_minor": 5
}
